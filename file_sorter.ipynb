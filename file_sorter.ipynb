{
 "cells": [
  {
   "cell_type": "code",
   "execution_count": 34,
   "id": "ee01def1-4047-4db8-a9c7-27338210d3a9",
   "metadata": {},
   "outputs": [],
   "source": [
    "import os, shutil"
   ]
  },
  {
   "cell_type": "code",
   "execution_count": 35,
   "id": "d0285f26-c845-4d3f-b00b-537b885c984f",
   "metadata": {},
   "outputs": [],
   "source": [
    "path = r\"D:/files/\""
   ]
  },
  {
   "cell_type": "code",
   "execution_count": 36,
   "id": "d34fc05e-d31a-4c03-9972-a0c8be18a5c3",
   "metadata": {},
   "outputs": [],
   "source": [
    "file_name=os.listdir(path)"
   ]
  },
  {
   "cell_type": "code",
   "execution_count": 37,
   "id": "e2edac6c-8c12-4f46-93d9-788dc659f0a6",
   "metadata": {},
   "outputs": [],
   "source": [
    "folder_names=[\"text files\",\"csv files\",\"image files\"]\n",
    "for i in range(0,3):\n",
    "    if not os.path.exists(path + folder_names[i]):\n",
    "     os.makedirs(path + folder_names[i])"
   ]
  },
  {
   "cell_type": "code",
   "execution_count": 38,
   "id": "08862a4b-5efa-49bb-81c8-57ee4d33ef2c",
   "metadata": {},
   "outputs": [],
   "source": [
    "for file in file_name:\n",
    "    if \".csv\" in file and not os.path.exists(path + \"csv files/\" + file):\n",
    "        shutil.move(path + file, path + \"csv files/\" + file)\n",
    "    elif \".txt\" in file and not os.path.exists(path + \"text files/\" + file):\n",
    "        shutil.move(path + file, path + \"text files/\" + file)\n",
    "    elif \".jpg\" in file and not os.path.exists(path + \"image files/\" + file):\n",
    "        shutil.move(path + file, path + \"image files/\" + file)\n",
    "  "
   ]
  },
  {
   "cell_type": "code",
   "execution_count": null,
   "id": "9a26436c-e849-42d4-817d-a11aae4fefbf",
   "metadata": {},
   "outputs": [],
   "source": []
  },
  {
   "cell_type": "code",
   "execution_count": 33,
   "id": "5fc38bc7-2d38-4912-ac2c-551decd5f87d",
   "metadata": {},
   "outputs": [],
   "source": []
  },
  {
   "cell_type": "code",
   "execution_count": null,
   "id": "ea8c15c2-62d3-4ff5-97f6-71e5156a907c",
   "metadata": {},
   "outputs": [],
   "source": []
  }
 ],
 "metadata": {
  "kernelspec": {
   "display_name": "Python 3 (ipykernel)",
   "language": "python",
   "name": "python3"
  },
  "language_info": {
   "codemirror_mode": {
    "name": "ipython",
    "version": 3
   },
   "file_extension": ".py",
   "mimetype": "text/x-python",
   "name": "python",
   "nbconvert_exporter": "python",
   "pygments_lexer": "ipython3",
   "version": "3.12.7"
  }
 },
 "nbformat": 4,
 "nbformat_minor": 5
}
